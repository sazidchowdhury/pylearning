{
 "cells": [
  {
   "cell_type": "code",
   "execution_count": 2,
   "id": "3ea1d09f-61ad-4d2a-b815-2b2a7b60650c",
   "metadata": {},
   "outputs": [
    {
     "name": "stdout",
     "output_type": "stream",
     "text": [
      "I will now count my chickens:\n",
      "Hens 30.0\n",
      "Roosters 97\n",
      "I will now count the eggs:\n",
      "6.75\n",
      "Is it true that 3 + 2 < 5 - 7\n",
      "False\n",
      "What is 3 + 2? 5\n",
      "What is 5 - 7? -2\n",
      "Oh, that's why it's False.\n",
      "How about some more.\n",
      "Is it greater? True\n",
      "Is it greater or equal? True\n",
      "Is it less or equal? False\n"
     ]
    }
   ],
   "source": [
    "print(\"I will now count my chickens:\")\n",
    "\n",
    "print(\"Hens\", 25+30/6)\n",
    "print(\"Roosters\", 100-25*3%4)\n",
    "\n",
    "print(\"I will now count the eggs:\")\n",
    "\n",
    "print(3 + 2 + 1 - 5 + 4 % 2 - 1 / 4 + 6)\n",
    "\n",
    "print(\"Is it true that 3 + 2 < 5 - 7\")\n",
    "\n",
    "print(3 + 2 < 5 -7)\n",
    "\n",
    "print(\"What is 3 + 2?\", 3 + 2)\n",
    "print(\"What is 5 - 7?\", 5 - 7)\n",
    "\n",
    "print(\"Oh, that's why it's False.\")\n",
    "\n",
    "print(\"How about some more.\")\n",
    "\n",
    "print(\"Is it greater?\", 5 > -2)\n",
    "print(\"Is it greater or equal?\", 5 >= 2)\n",
    "print(\"Is it less or equal?\", 5 <= -2)\n"
   ]
  },
  {
   "cell_type": "code",
   "execution_count": 3,
   "id": "b075f0d9-3e45-4b55-8035-5c09d9e089a2",
   "metadata": {},
   "outputs": [
    {
     "name": "stdout",
     "output_type": "stream",
     "text": [
      "I will now count my chickens:\n",
      "Hens 30.0\n",
      "Roosters 81.25\n",
      "I will now count the eggs:\n",
      "8.75\n",
      "Is it true that 3 + 2 < 5 - 7\n",
      "False\n",
      "What is 3 + 2? 5\n",
      "What is 5 - 7? -2\n",
      "Oh, that's why it's False.\n",
      "How about some more.\n",
      "Is it greater? True\n",
      "Is it greater or equal? True\n",
      "Is it less or equal? False\n"
     ]
    }
   ],
   "source": [
    "print(\"I will now count my chickens:\")\n",
    "\n",
    "print(\"Hens\", 25+30/6)\n",
    "print(\"Roosters\", 100-25*3/4)\n",
    "\n",
    "print(\"I will now count the eggs:\")\n",
    "\n",
    "print(3 + 2 + 1 - 5 + 4 / 2 - 1 / 4 + 6)\n",
    "\n",
    "print(\"Is it true that 3 + 2 < 5 - 7\")\n",
    "\n",
    "print(3 + 2 < 5 -7)\n",
    "\n",
    "print(\"What is 3 + 2?\", 3 + 2)\n",
    "print(\"What is 5 - 7?\", 5 - 7)\n",
    "\n",
    "print(\"Oh, that's why it's False.\")\n",
    "\n",
    "print(\"How about some more.\")\n",
    "\n",
    "print(\"Is it greater?\", 5 > -2)\n",
    "print(\"Is it greater or equal?\", 5 >= 2)\n",
    "print(\"Is it less or equal?\", 5 <= -2)"
   ]
  },
  {
   "cell_type": "code",
   "execution_count": 4,
   "id": "972e0448-73d1-41f5-a78f-1fc48979fd77",
   "metadata": {},
   "outputs": [
    {
     "name": "stdout",
     "output_type": "stream",
     "text": [
      "I will now count my chickens:\n",
      "Hens 30.0\n",
      "Roosters 81.25\n",
      "I will now count the eggs:\n",
      "8.75\n",
      "Is it true that 3 + 2 < 5 - 7\n",
      "False\n",
      "What is 3 + 2? 5\n",
      "What is 5 - 7? -2\n",
      "Oh, that's why it's False.\n",
      "How about some more.\n",
      "Is it greater? True\n",
      "Is it greater or equal? True\n",
      "Is it less or equal? False\n"
     ]
    }
   ],
   "source": [
    "#This will count the chicken\n",
    "print(\"I will now count my chickens:\")\n",
    "\n",
    "#This will count the hens\n",
    "print(\"Hens\", 25+30/6)\n",
    "#This will count the Roosters\n",
    "print(\"Roosters\", 100-25*3/4)\n",
    "\n",
    "#This will count the eggs\n",
    "print(\"I will now count the eggs:\")\n",
    "\n",
    "#This is the count\n",
    "print(3 + 2 + 1 - 5 + 4 / 2 - 1 / 4 + 6)\n",
    "\n",
    "#Number comparison\n",
    "print(\"Is it true that 3 + 2 < 5 - 7\")\n",
    "\n",
    "print(3 + 2 < 5 -7)\n",
    "\n",
    "#Checking the result of previous print\n",
    "print(\"What is 3 + 2?\", 3 + 2)\n",
    "print(\"What is 5 - 7?\", 5 - 7)\n",
    "\n",
    "print(\"Oh, that's why it's False.\")\n",
    "\n",
    "print(\"How about some more.\")\n",
    "\n",
    "#Using greater and no more than-no less than operators\n",
    "print(\"Is it greater?\", 5 > -2)\n",
    "print(\"Is it greater or equal?\", 5 >= 2)\n",
    "print(\"Is it less or equal?\", 5 <= -2)"
   ]
  },
  {
   "cell_type": "code",
   "execution_count": 5,
   "id": "0846caa9-6653-4593-ae0b-63e4750b4922",
   "metadata": {},
   "outputs": [
    {
     "data": {
      "text/plain": [
       "10100"
      ]
     },
     "execution_count": 5,
     "metadata": {},
     "output_type": "execute_result"
    }
   ],
   "source": [
    "9999 + 101"
   ]
  },
  {
   "cell_type": "raw",
   "id": "0d2acbcb-ba2a-4491-a2da-84289fa5e51b",
   "metadata": {},
   "source": [
    "%run \\D:\\PROGRAMMING DRIVE\\Python Development\\pylearning\\lpythw\\math_drill.py"
   ]
  },
  {
   "cell_type": "code",
   "execution_count": 8,
   "id": "feadafe7-e675-4a5c-b465-06845100c69b",
   "metadata": {},
   "outputs": [],
   "source": [
    "%run \"D:\\PROGRAMMING DRIVE\\Python Development\\pylearning\\lpythw\\math_drill.py\""
   ]
  },
  {
   "cell_type": "code",
   "execution_count": 11,
   "id": "30c7f007-fecd-451c-bf02-2e2520190c87",
   "metadata": {},
   "outputs": [
    {
     "name": "stdout",
     "output_type": "stream",
     "text": [
      "4383484.5264490405\n"
     ]
    }
   ],
   "source": [
    "%run math_drill.py"
   ]
  },
  {
   "cell_type": "code",
   "execution_count": 10,
   "id": "96163668-c3fa-4498-bd2f-eb29945982b1",
   "metadata": {},
   "outputs": [],
   "source": [
    "%run math_drill.py"
   ]
  },
  {
   "cell_type": "code",
   "execution_count": 1,
   "id": "4d76a8e0-63f9-4907-abf3-f1678fc8c6fb",
   "metadata": {},
   "outputs": [
    {
     "name": "stdout",
     "output_type": "stream",
     "text": [
      "Jibonta osthir\n",
      "Aho Vatija Aho\n"
     ]
    }
   ],
   "source": [
    "%run simple_message.py"
   ]
  },
  {
   "cell_type": "code",
   "execution_count": 2,
   "id": "6693cbcd-4b22-46d9-a0bf-3581f7f8a337",
   "metadata": {},
   "outputs": [
    {
     "name": "stdout",
     "output_type": "stream",
     "text": [
      "Ada Lovelace\n"
     ]
    }
   ],
   "source": [
    "%run name.py"
   ]
  },
  {
   "cell_type": "raw",
   "id": "8cdd4237-f0a8-4d26-9db1-e5bc2944ddfc",
   "metadata": {},
   "source": []
  },
  {
   "cell_type": "code",
   "execution_count": 3,
   "id": "84131efc-a63f-4ca1-993b-3fa1fec0ac00",
   "metadata": {},
   "outputs": [
    {
     "name": "stdout",
     "output_type": "stream",
     "text": [
      "Ada Lovelace\n",
      "ADA LOVELACE\n",
      "ada lovelace\n"
     ]
    }
   ],
   "source": [
    "%run name.py"
   ]
  },
  {
   "cell_type": "code",
   "execution_count": null,
   "id": "b59cbf07-0b16-40d4-8d65-a345551e2f79",
   "metadata": {},
   "outputs": [],
   "source": []
  }
 ],
 "metadata": {
  "kernelspec": {
   "display_name": "Python 3 (ipykernel)",
   "language": "python",
   "name": "python3"
  },
  "language_info": {
   "codemirror_mode": {
    "name": "ipython",
    "version": 3
   },
   "file_extension": ".py",
   "mimetype": "text/x-python",
   "name": "python",
   "nbconvert_exporter": "python",
   "pygments_lexer": "ipython3",
   "version": "3.12.4"
  }
 },
 "nbformat": 4,
 "nbformat_minor": 5
}
