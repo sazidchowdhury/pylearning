%run full_name.py


%run full_name.py


print("Python")


print("\tPython")


print("Language:\nPython\nC\nJava")
print("Language:\n\tPython\n\tC\n\tJava")
print("Language:\t\nPython\t\nC\t\nJava")


favorite_language = 'Python '
favorite_language
favorite_language.rstrip()


favorite_language = " 'Python' "
favorite_language = favorite_language.rstrip()
print(favorite_language)
favorite_language = favorite_language.lstrip()
print(favorite_language)


nostarch_url = 'https://nostarch.com'
nostarch_url.removeprefix('https://')


%run name_1.py


%run name_1.py


%run name_case.py


%run name_case.py


%run name_case.py


%run name_case.py


%run name_case.py


%run name_case.py


3 ** 3


10 ** 6


0.2 + 0.1


universe_age = 14_000_000_000
print(universe_age)


MAX_CONNECTION = 50000
MAX_CONNECTION = MAX_CONNECTION + 1000
print(MAX_CONNECTION)


fav = 100
print(fav)
print(4 + 4)
print(12 - 4)
print(4 * 2)
print(24 / 3)


%run number.py


import this


bicycle = ['trek', 'cannondale', 'redline', 'specialized']
print(bicycle[0])
print(bicycle[0].title())
print(bicycle[1])
print(bicycle[3])
print(bicycle[-1])
print(bicycle[-2])
message = f"My bicycle was a {bicycle[0].title()}"
print(message)


%run guest_list.py


%run guest_list.py


%run guest_list.py


%run guest_list.py


%run guest_list.py


%run world_list.py



