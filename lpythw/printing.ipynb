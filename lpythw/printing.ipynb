{
 "cells": [
  {
   "cell_type": "code",
   "execution_count": 1,
   "id": "06fb7bfe-941d-42c5-90c0-bb190cb40158",
   "metadata": {},
   "outputs": [
    {
     "name": "stdout",
     "output_type": "stream",
     "text": [
      "Hello World!\n",
      "Hello Again!\n",
      "I like typing this.\n",
      "This is fun.\n",
      "Yay! printing.\n",
      "I would much rather you 'NOT'.\n",
      "I \"said\" do not touch this.\n"
     ]
    }
   ],
   "source": [
    "print(\"Hello World!\")\n",
    "print(\"Hello Again!\")\n",
    "print(\"I like typing this.\")\n",
    "print(\"This is fun.\")\n",
    "print('Yay! printing.')\n",
    "print(\"I would much rather you 'NOT'.\")\n",
    "print('I \"said\" do not touch this.')"
   ]
  },
  {
   "cell_type": "code",
   "execution_count": 2,
   "id": "4ce55af9-e367-42d0-a825-a78ae6fbb862",
   "metadata": {},
   "outputs": [
    {
     "name": "stdout",
     "output_type": "stream",
     "text": [
      "Hello World\n",
      "Hello Again\n",
      "I like typing this\n",
      "This is fun\n",
      "Yay! printing.\n",
      "I would much rather you 'NOT'.\n",
      "I said do \"NOT\" touch this\n",
      "Why living is so hard\n"
     ]
    }
   ],
   "source": [
    "print(\"Hello World\")\n",
    "print(\"Hello Again\")\n",
    "print(\"I like typing this\")\n",
    "print(\"This is fun\")\n",
    "print('Yay! printing.')\n",
    "print(\"I would much rather you 'NOT'.\")\n",
    "print('I said do \"NOT\" touch this')\n",
    "print(\"Why living is so hard\")"
   ]
  },
  {
   "cell_type": "code",
   "execution_count": 3,
   "id": "e2c19332-1390-402f-a945-03d9fc32ad00",
   "metadata": {},
   "outputs": [
    {
     "name": "stdout",
     "output_type": "stream",
     "text": [
      "LIvIng is sO Hard\n"
     ]
    }
   ],
   "source": [
    "print(\"LIvIng is sO Hard\")"
   ]
  },
  {
   "cell_type": "code",
   "execution_count": 4,
   "id": "8438d032-8469-4f46-969f-d225ece244a8",
   "metadata": {},
   "outputs": [
    {
     "name": "stdout",
     "output_type": "stream",
     "text": [
      "Hello World\n",
      "This is fun\n",
      "Yay! printing.\n",
      "I said do \"NOT\" touch this\n"
     ]
    }
   ],
   "source": [
    "print(\"Hello World\")\n",
    "#print(\"Hello Again\")\n",
    "#print(\"I like typing this\")\n",
    "print(\"This is fun\")\n",
    "print('Yay! printing.')\n",
    "#print(\"I would much rather you 'NOT'.\")\n",
    "print('I said do \"NOT\" touch this')"
   ]
  },
  {
   "cell_type": "code",
   "execution_count": null,
   "id": "6783eda6-9722-453c-afa7-2af407a806fc",
   "metadata": {},
   "outputs": [],
   "source": []
  }
 ],
 "metadata": {
  "kernelspec": {
   "display_name": "Python 3 (ipykernel)",
   "language": "python",
   "name": "python3"
  },
  "language_info": {
   "codemirror_mode": {
    "name": "ipython",
    "version": 3
   },
   "file_extension": ".py",
   "mimetype": "text/x-python",
   "name": "python",
   "nbconvert_exporter": "python",
   "pygments_lexer": "ipython3",
   "version": "3.12.4"
  }
 },
 "nbformat": 4,
 "nbformat_minor": 5
}
