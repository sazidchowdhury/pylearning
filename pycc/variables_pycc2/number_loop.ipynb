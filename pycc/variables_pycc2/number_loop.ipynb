{
 "cells": [
  {
   "cell_type": "code",
   "execution_count": 4,
   "id": "d3e6db44-3016-4b1c-8c38-08f9c412ffcb",
   "metadata": {},
   "outputs": [
    {
     "name": "stdout",
     "output_type": "stream",
     "text": [
      "1\n",
      "10000\n",
      "50005000\n"
     ]
    }
   ],
   "source": [
    "number_list = []\n",
    "for number in range(1, 10**4+1):\n",
    "    number_list.append(number)\n",
    "\n",
    "#print(number_list)\n",
    "print(min(number_list))\n",
    "print(max(number_list))\n",
    "print(sum(number_list))"
   ]
  },
  {
   "cell_type": "code",
   "execution_count": 9,
   "id": "88d46240-9181-413b-b0f4-1a35721de4fe",
   "metadata": {},
   "outputs": [
    {
     "name": "stdout",
     "output_type": "stream",
     "text": [
      "1\n",
      "2\n",
      "3\n",
      "4\n",
      "5\n",
      "6\n",
      "7\n",
      "8\n",
      "9\n",
      "10\n",
      "11\n",
      "12\n",
      "13\n",
      "14\n",
      "15\n",
      "16\n",
      "17\n",
      "18\n",
      "19\n",
      "20\n",
      "1\n",
      "1000000\n",
      "500000500000\n",
      "1\n",
      "3\n",
      "5\n",
      "7\n",
      "9\n",
      "11\n",
      "13\n",
      "15\n",
      "17\n",
      "19\n",
      "[1, 3, 5, 7, 9, 11, 13, 15, 17, 19]\n",
      "3\n",
      "6\n",
      "9\n",
      "12\n",
      "15\n",
      "18\n",
      "21\n",
      "24\n",
      "27\n",
      "1\n",
      "8\n",
      "27\n",
      "64\n",
      "125\n",
      "216\n",
      "343\n",
      "512\n",
      "729\n",
      "1000\n",
      "[1, 8, 27, 64, 125, 216, 343, 512, 729, 1000]\n",
      "[1, 8, 27, 64, 125, 216, 343, 512, 729, 1000]\n"
     ]
    }
   ],
   "source": [
    "%run number_loop.py"
   ]
  },
  {
   "cell_type": "code",
   "execution_count": 24,
   "id": "b7ccbb2c-eac2-4046-81ea-0027c504cb95",
   "metadata": {},
   "outputs": [
    {
     "name": "stdout",
     "output_type": "stream",
     "text": [
      "Here are the first three players of my team:\n",
      "Charles\n",
      "Martina\n",
      "Michael\n"
     ]
    }
   ],
   "source": [
    "players = ['charles', 'martina', 'michael', 'florence', 'eli']\n",
    "#print(players[0:3])\n",
    "#print(players[1:4:2])\n",
    "#print(players[:4])\n",
    "#print(players[2:])\n",
    "#print(players[-2:-1])\n",
    "print(\"Here are the first three players of my team:\")\n",
    "for player in players[:3]:\n",
    "    print(player.title())"
   ]
  },
  {
   "cell_type": "code",
   "execution_count": 26,
   "id": "ba8badd7-cb99-425e-968b-582a19d81b19",
   "metadata": {},
   "outputs": [
    {
     "name": "stdout",
     "output_type": "stream",
     "text": [
      "My favorite foods are:\n",
      "['pizza', 'falafel', 'carrot cake', 'cannoli']\n",
      "\n",
      "My friend's favorite foods are:\n",
      "['pizza', 'falafel', 'carrot cake', 'ice cream']\n"
     ]
    }
   ],
   "source": [
    "my_foods = ['pizza', 'falafel', 'carrot cake']\n",
    "friend_foods = my_foods[:]\n",
    "my_foods.append('cannoli')\n",
    "friend_foods.append('ice cream')\n",
    "print(\"My favorite foods are:\")\n",
    "print(my_foods)\n",
    "print(\"\\nMy friend's favorite foods are:\")\n",
    "print(friend_foods)"
   ]
  },
  {
   "cell_type": "code",
   "execution_count": 30,
   "id": "58d5a89c-7bbe-4f49-b4dd-5b77dce841b2",
   "metadata": {},
   "outputs": [
    {
     "name": "stdout",
     "output_type": "stream",
     "text": [
      "The first three items in the list are:\n",
      "[1, 2, 3]\n",
      "Three items from the middle of the list are\n",
      "[9, 10, 11]\n",
      "The last three items in the list are:\n",
      "[18, 19, 20]\n"
     ]
    }
   ],
   "source": [
    "%run food_loop.py"
   ]
  },
  {
   "cell_type": "code",
   "execution_count": 35,
   "id": "aababc3c-4348-423c-b7b1-58ebb4286ffc",
   "metadata": {},
   "outputs": [
    {
     "name": "stdout",
     "output_type": "stream",
     "text": [
      "The first three items in the list are:\n",
      "[1, 2, 3]\n",
      "Three items from the middle of the list are\n",
      "[9, 10, 11]\n",
      "The last three items in the list are:\n",
      "[18, 19, 20]\n",
      "\n",
      "My favorite pizzas are:\n",
      "Cheese Pizza\n",
      "Jalapeno Pizza\n",
      "Four Seasons Pizza\n",
      "Oregano Pizza\n",
      "\n",
      "My friend's favorite pizzas are:\n",
      "Cheese Pizza\n",
      "Jalapeno Pizza\n",
      "Four Seasons Pizza\n",
      "Special Pizza\n"
     ]
    }
   ],
   "source": [
    "%run food_loop.py"
   ]
  },
  {
   "cell_type": "code",
   "execution_count": 37,
   "id": "e811b451-15f4-475e-af86-ffb4a22c3eb3",
   "metadata": {},
   "outputs": [
    {
     "name": "stdout",
     "output_type": "stream",
     "text": [
      "My favorite foods are:\n",
      "pizza\n",
      "falafel\n",
      "carrot cake\n",
      "cannoli\n",
      "\n",
      "My friend's favorite foods are:\n",
      "pizza\n",
      "falafel\n",
      "carrot cake\n",
      "ice cream\n"
     ]
    }
   ],
   "source": [
    "my_foods = ['pizza', 'falafel', 'carrot cake']\n",
    "friend_foods = my_foods[:]\n",
    "\n",
    "my_foods.append('cannoli')\n",
    "friend_foods.append('ice cream')\n",
    "\n",
    "print(\"My favorite foods are:\")\n",
    "for food in my_foods:\n",
    "    print(food)\n",
    "\n",
    "print(\"\\nMy friend's favorite foods are:\")\n",
    "for food in friend_foods:\n",
    "    print(food)"
   ]
  },
  {
   "cell_type": "code",
   "execution_count": 40,
   "id": "5ff7afaa-8a77-43be-bdf4-80526d24f0c9",
   "metadata": {},
   "outputs": [
    {
     "name": "stdout",
     "output_type": "stream",
     "text": [
      "200\n",
      "50\n"
     ]
    }
   ],
   "source": [
    "dimensions = (200, 50)\n",
    "for dimension in dimensions:\n",
    "    print(dimension)"
   ]
  },
  {
   "cell_type": "code",
   "execution_count": 41,
   "id": "c7245c12-1375-48fb-950e-1167a8b7d82d",
   "metadata": {},
   "outputs": [
    {
     "name": "stdout",
     "output_type": "stream",
     "text": [
      "Original dimensions:\n",
      "200\n",
      "50\n",
      "\n",
      "Modified dimensions:\n",
      "400\n",
      "100\n"
     ]
    }
   ],
   "source": [
    "dimensions = (200, 50)\n",
    "print(\"Original dimensions:\")\n",
    "for dimension in dimensions:\n",
    "    print(dimension)\n",
    "dimensions = (400, 100)\n",
    "print(\"\\nModified dimensions:\")\n",
    "for dimension in dimensions:\n",
    "    print(dimension)"
   ]
  },
  {
   "cell_type": "code",
   "execution_count": 44,
   "id": "c4492876-3308-49b6-a625-67ba3d707301",
   "metadata": {},
   "outputs": [
    {
     "name": "stdout",
     "output_type": "stream",
     "text": [
      "rice\n",
      "vegetable\n",
      "chicken\n",
      "fish\n",
      "salad\n",
      "\n",
      "\n",
      "bread\n",
      "vegetable\n",
      "chicken\n",
      "fish\n",
      "ice cream\n"
     ]
    }
   ],
   "source": [
    "%run food_loop.py"
   ]
  },
  {
   "cell_type": "code",
   "execution_count": 46,
   "id": "3308fe8a-260b-499e-a91d-873032b4d024",
   "metadata": {},
   "outputs": [
    {
     "name": "stdout",
     "output_type": "stream",
     "text": [
      "The first three items in the list are:\n",
      "[1, 2, 3]\n",
      "Three items from the middle of the list are\n",
      "[9, 10, 11]\n",
      "The last three items in the list are:\n",
      "[18, 19, 20]\n",
      "\n",
      "My favorite pizzas are:\n",
      "Cheese Pizza\n",
      "Jalapeno Pizza\n",
      "Four Seasons Pizza\n",
      "Oregano Pizza\n",
      "\n",
      "My friend's favorite pizzas are:\n",
      "Cheese Pizza\n",
      "Jalapeno Pizza\n",
      "Four Seasons Pizza\n",
      "Special Pizza\n",
      "\n",
      "\n",
      "rice\n",
      "vegetable\n",
      "chicken\n",
      "fish\n",
      "salad\n",
      "\n",
      "\n",
      "bread\n",
      "vegetable\n",
      "chicken\n",
      "fish\n",
      "ice cream\n"
     ]
    }
   ],
   "source": [
    "%run food_loop.py"
   ]
  },
  {
   "cell_type": "code",
   "execution_count": 1,
   "id": "00e58eeb-17b2-4c8b-b321-93e89ae2cce5",
   "metadata": {},
   "outputs": [
    {
     "name": "stdout",
     "output_type": "stream",
     "text": [
      "Audi\n",
      "BMW\n",
      "Subaru\n",
      "Toyota\n"
     ]
    }
   ],
   "source": [
    "cars = ['audi', 'bmw', 'subaru', 'toyota']\n",
    "\n",
    "for car in cars:\n",
    "    if car == 'bmw':\n",
    "        print(car.upper())\n",
    "    else:\n",
    "        print(car.title())"
   ]
  },
  {
   "cell_type": "code",
   "execution_count": null,
   "id": "170b162f-322e-47b5-a7ae-46dd5389c0fe",
   "metadata": {
    "editable": true,
    "slideshow": {
     "slide_type": ""
    },
    "tags": []
   },
   "outputs": [],
   "source": []
  }
 ],
 "metadata": {
  "kernelspec": {
   "display_name": "Python 3 (ipykernel)",
   "language": "python",
   "name": "python3"
  },
  "language_info": {
   "codemirror_mode": {
    "name": "ipython",
    "version": 3
   },
   "file_extension": ".py",
   "mimetype": "text/x-python",
   "name": "python",
   "nbconvert_exporter": "python",
   "pygments_lexer": "ipython3",
   "version": "3.12.4"
  }
 },
 "nbformat": 4,
 "nbformat_minor": 5
}
