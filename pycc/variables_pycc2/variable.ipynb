{
 "cells": [
  {
   "cell_type": "code",
   "execution_count": 2,
   "id": "070071ff-19b0-41a5-9468-3f4a6ae2071a",
   "metadata": {},
   "outputs": [
    {
     "name": "stdout",
     "output_type": "stream",
     "text": [
      "ada lovelace\n",
      "Ada Lovelace\n"
     ]
    }
   ],
   "source": [
    "%run full_name.py"
   ]
  },
  {
   "cell_type": "code",
   "execution_count": 3,
   "id": "2a3c2abc-9e09-4465-8d84-a97cc0a0cf1b",
   "metadata": {},
   "outputs": [
    {
     "name": "stdout",
     "output_type": "stream",
     "text": [
      "ada lovelace\n",
      "Ada Lovelace\n",
      "Hello, Ada Lovelace!\n",
      "HELLO, ADA LOVELACE!\n"
     ]
    }
   ],
   "source": [
    "%run full_name.py"
   ]
  },
  {
   "cell_type": "code",
   "execution_count": 4,
   "id": "88d5572c-9446-4c03-9867-b76872159bb9",
   "metadata": {},
   "outputs": [
    {
     "name": "stdout",
     "output_type": "stream",
     "text": [
      "Python\n"
     ]
    }
   ],
   "source": [
    "print(\"Python\")"
   ]
  },
  {
   "cell_type": "code",
   "execution_count": 5,
   "id": "a42dacc7-0cb6-44b5-96e4-b923fea67bae",
   "metadata": {},
   "outputs": [
    {
     "name": "stdout",
     "output_type": "stream",
     "text": [
      "\tPython\n"
     ]
    }
   ],
   "source": [
    "print(\"\\tPython\")"
   ]
  },
  {
   "cell_type": "code",
   "execution_count": 6,
   "id": "41847d4f-721e-46e7-b374-c3a0f4f5bfb7",
   "metadata": {},
   "outputs": [
    {
     "name": "stdout",
     "output_type": "stream",
     "text": [
      "Language:\n",
      "Python\n",
      "C\n",
      "Java\n",
      "Language:\n",
      "\tPython\n",
      "\tC\n",
      "\tJava\n",
      "Language:\t\n",
      "Python\t\n",
      "C\t\n",
      "Java\n"
     ]
    }
   ],
   "source": [
    "print(\"Language:\\nPython\\nC\\nJava\")\n",
    "print(\"Language:\\n\\tPython\\n\\tC\\n\\tJava\")\n",
    "print(\"Language:\\t\\nPython\\t\\nC\\t\\nJava\")"
   ]
  },
  {
   "cell_type": "code",
   "execution_count": 10,
   "id": "b54369f1-b034-4f8b-be6f-cd4478a49b75",
   "metadata": {},
   "outputs": [
    {
     "data": {
      "text/plain": [
       "'Python'"
      ]
     },
     "execution_count": 10,
     "metadata": {},
     "output_type": "execute_result"
    }
   ],
   "source": [
    "favorite_language = 'Python '\n",
    "favorite_language\n",
    "favorite_language.rstrip()"
   ]
  },
  {
   "cell_type": "code",
   "execution_count": 12,
   "id": "b9afe281-e7f1-4c9f-9223-fc80b4347450",
   "metadata": {},
   "outputs": [
    {
     "name": "stdout",
     "output_type": "stream",
     "text": [
      " 'Python'\n",
      "'Python'\n"
     ]
    }
   ],
   "source": [
    "favorite_language = \" 'Python' \"\n",
    "favorite_language = favorite_language.rstrip()\n",
    "print(favorite_language)\n",
    "favorite_language = favorite_language.lstrip()\n",
    "print(favorite_language)"
   ]
  },
  {
   "cell_type": "code",
   "execution_count": 13,
   "id": "4a15604f-cdb7-4464-9cff-291b02cb75da",
   "metadata": {},
   "outputs": [
    {
     "data": {
      "text/plain": [
       "'nostarch.com'"
      ]
     },
     "execution_count": 13,
     "metadata": {},
     "output_type": "execute_result"
    }
   ],
   "source": [
    "nostarch_url = 'https://nostarch.com'\n",
    "nostarch_url.removeprefix('https://')"
   ]
  },
  {
   "cell_type": "code",
   "execution_count": 1,
   "id": "1613e623-489f-4df2-b777-20c3985fa9bc",
   "metadata": {},
   "outputs": [
    {
     "name": "stdout",
     "output_type": "stream",
     "text": [
      "Hello Burce, would you like to learn some Python today?\n"
     ]
    }
   ],
   "source": [
    "%run name_1.py"
   ]
  },
  {
   "cell_type": "code",
   "execution_count": 2,
   "id": "0caea0f6-c683-49df-8047-efab2b4872cd",
   "metadata": {},
   "outputs": [
    {
     "name": "stdout",
     "output_type": "stream",
     "text": [
      "Hello Burce, would you like to learn some Python today?\n"
     ]
    }
   ],
   "source": [
    "%run name_1.py"
   ]
  },
  {
   "cell_type": "code",
   "execution_count": 3,
   "id": "d7b6647a-76c4-48b7-9db3-6e7c38b0ff06",
   "metadata": {},
   "outputs": [
    {
     "name": "stdout",
     "output_type": "stream",
     "text": [
      "Hello BuRce, would you like to learn some Python today?\n",
      "burce\n",
      "BURCE\n",
      "Burce\n"
     ]
    }
   ],
   "source": [
    "%run name_case.py"
   ]
  },
  {
   "cell_type": "code",
   "execution_count": 5,
   "id": "9780c7b2-fbb2-48fc-9005-64398cb0117e",
   "metadata": {},
   "outputs": [
    {
     "name": "stdout",
     "output_type": "stream",
     "text": [
      "Hello BuRce, would you like to learn some Python today?\n",
      "burce\n",
      "BURCE\n",
      "Burce\n",
      "Albert Einstein once said,\"A person who never made a mistake never tried anything new\"\n"
     ]
    }
   ],
   "source": [
    "%run name_case.py"
   ]
  },
  {
   "cell_type": "code",
   "execution_count": 6,
   "id": "88c9c173-fe90-4ba0-92f6-6a7776c24616",
   "metadata": {},
   "outputs": [
    {
     "name": "stdout",
     "output_type": "stream",
     "text": [
      "Hello BuRce, would you like to learn some Python today?\n",
      "burce\n",
      "BURCE\n",
      "Burce\n",
      "Albert Einstein once said,\"A person who never made a mistake never tried anything new\"\n"
     ]
    }
   ],
   "source": [
    "%run name_case.py"
   ]
  },
  {
   "cell_type": "code",
   "execution_count": 7,
   "id": "f9d69de9-441b-4b49-95ba-36b3d5ee84d2",
   "metadata": {},
   "outputs": [
    {
     "name": "stdout",
     "output_type": "stream",
     "text": [
      "Hello BuRce, would you like to learn some Python today?\n",
      "burce\n",
      "BURCE\n",
      "Burce\n",
      "Albert Einstein once said,\"A person who never made a mistake never tried anything new\"\n",
      " '\n",
      "Abul\tMal\n",
      "Abdul\n",
      "\tMuhit' \n",
      "'\n",
      "Abul\tMal\n",
      "Abdul\n",
      "\tMuhit' \n",
      " '\n",
      "Abul\tMal\n",
      "Abdul\n",
      "\tMuhit'\n",
      "'\n",
      "Abul\tMal\n",
      "Abdul\n",
      "\tMuhit'\n"
     ]
    }
   ],
   "source": [
    "%run name_case.py"
   ]
  },
  {
   "cell_type": "code",
   "execution_count": 8,
   "id": "3f96ca3f-67c0-40ae-a65a-4885ea567dc0",
   "metadata": {},
   "outputs": [
    {
     "name": "stdout",
     "output_type": "stream",
     "text": [
      "Hello BuRce, would you like to learn some Python today?\n",
      "burce\n",
      "BURCE\n",
      "Burce\n",
      "Albert Einstein once said,\"A person who never made a mistake never tried anything new\"\n",
      " '\n",
      "Abul\tMal\n",
      "Abdul\n",
      "\tMuhit' \n",
      "'\n",
      "Abul\tMal\n",
      "Abdul\n",
      "\tMuhit' \n",
      " '\n",
      "Abul\tMal\n",
      "Abdul\n",
      "\tMuhit'\n",
      "'\n",
      "Abul\tMal\n",
      "Abdul\n",
      "\tMuhit'\n",
      "malalakhalifa.com\n",
      "python_onek_lomba\n"
     ]
    }
   ],
   "source": [
    "%run name_case.py"
   ]
  },
  {
   "cell_type": "code",
   "execution_count": 9,
   "id": "5caf7a0c-0cae-482d-941b-7767014fd3a9",
   "metadata": {},
   "outputs": [
    {
     "name": "stdout",
     "output_type": "stream",
     "text": [
      "Hello BuRce, would you like to learn some Python today?\n",
      "burce\n",
      "BURCE\n",
      "Burce\n",
      "Albert Einstein once said,\"A person who never made a mistake never tried anything new\"\n",
      " '\n",
      "Abul\tMal\n",
      "Abdul\n",
      "\tMuhit' \n",
      "'\n",
      "Abul\tMal\n",
      "Abdul\n",
      "\tMuhit' \n",
      " '\n",
      "Abul\tMal\n",
      "Abdul\n",
      "\tMuhit'\n",
      "'\n",
      "Abul\tMal\n",
      "Abdul\n",
      "\tMuhit'\n",
      "malalakhalifa.com\n",
      "malalakhalifa\n",
      "python_onek_lomba\n"
     ]
    }
   ],
   "source": [
    "%run name_case.py"
   ]
  },
  {
   "cell_type": "code",
   "execution_count": 10,
   "id": "5b1e06b1-954e-4a19-83f7-e1319c5bb038",
   "metadata": {},
   "outputs": [
    {
     "data": {
      "text/plain": [
       "27"
      ]
     },
     "execution_count": 10,
     "metadata": {},
     "output_type": "execute_result"
    }
   ],
   "source": [
    "3 ** 3"
   ]
  },
  {
   "cell_type": "code",
   "execution_count": 11,
   "id": "6c986a33-d30b-4ac6-85ee-e3ddbc236572",
   "metadata": {},
   "outputs": [
    {
     "data": {
      "text/plain": [
       "1000000"
      ]
     },
     "execution_count": 11,
     "metadata": {},
     "output_type": "execute_result"
    }
   ],
   "source": [
    "10 ** 6"
   ]
  },
  {
   "cell_type": "code",
   "execution_count": 12,
   "id": "75cd45c3-07e6-4367-b34f-711bf7a791c8",
   "metadata": {},
   "outputs": [
    {
     "data": {
      "text/plain": [
       "0.30000000000000004"
      ]
     },
     "execution_count": 12,
     "metadata": {},
     "output_type": "execute_result"
    }
   ],
   "source": [
    "0.2 + 0.1"
   ]
  },
  {
   "cell_type": "code",
   "execution_count": 13,
   "id": "1f7ad070-0706-4663-a928-bd6e24931f4c",
   "metadata": {},
   "outputs": [
    {
     "name": "stdout",
     "output_type": "stream",
     "text": [
      "14000000000\n"
     ]
    }
   ],
   "source": [
    "universe_age = 14_000_000_000\n",
    "print(universe_age)"
   ]
  },
  {
   "cell_type": "code",
   "execution_count": 14,
   "id": "12370b59-44ed-4309-9bee-cd59cf2cce99",
   "metadata": {},
   "outputs": [
    {
     "name": "stdout",
     "output_type": "stream",
     "text": [
      "51000\n"
     ]
    }
   ],
   "source": [
    "MAX_CONNECTION = 50000\n",
    "MAX_CONNECTION = MAX_CONNECTION + 1000\n",
    "print(MAX_CONNECTION)"
   ]
  },
  {
   "cell_type": "code",
   "execution_count": 16,
   "id": "5a282d0b-32af-46e6-9a4b-ccdad4c2ec40",
   "metadata": {},
   "outputs": [
    {
     "name": "stdout",
     "output_type": "stream",
     "text": [
      "100\n",
      "8\n",
      "8\n",
      "8\n",
      "8.0\n"
     ]
    }
   ],
   "source": [
    "fav = 100\n",
    "print(fav)\n",
    "print(4 + 4)\n",
    "print(12 - 4)\n",
    "print(4 * 2)\n",
    "print(24 / 3)"
   ]
  },
  {
   "cell_type": "code",
   "execution_count": 17,
   "id": "2f55e905-9566-429d-9305-16d75afa0c6d",
   "metadata": {},
   "outputs": [
    {
     "name": "stdout",
     "output_type": "stream",
     "text": [
      "Hello, buddyrum bashi!\n"
     ]
    }
   ],
   "source": [
    "%run number.py"
   ]
  },
  {
   "cell_type": "code",
   "execution_count": 18,
   "id": "a9484612-6615-4422-9c27-21b3d6adec76",
   "metadata": {},
   "outputs": [
    {
     "name": "stdout",
     "output_type": "stream",
     "text": [
      "The Zen of Python, by Tim Peters\n",
      "\n",
      "Beautiful is better than ugly.\n",
      "Explicit is better than implicit.\n",
      "Simple is better than complex.\n",
      "Complex is better than complicated.\n",
      "Flat is better than nested.\n",
      "Sparse is better than dense.\n",
      "Readability counts.\n",
      "Special cases aren't special enough to break the rules.\n",
      "Although practicality beats purity.\n",
      "Errors should never pass silently.\n",
      "Unless explicitly silenced.\n",
      "In the face of ambiguity, refuse the temptation to guess.\n",
      "There should be one-- and preferably only one --obvious way to do it.\n",
      "Although that way may not be obvious at first unless you're Dutch.\n",
      "Now is better than never.\n",
      "Although never is often better than *right* now.\n",
      "If the implementation is hard to explain, it's a bad idea.\n",
      "If the implementation is easy to explain, it may be a good idea.\n",
      "Namespaces are one honking great idea -- let's do more of those!\n"
     ]
    }
   ],
   "source": [
    "import this"
   ]
  },
  {
   "cell_type": "code",
   "execution_count": 20,
   "id": "d21b9638-8015-4ef7-9e45-e8f5e4784e84",
   "metadata": {},
   "outputs": [
    {
     "name": "stdout",
     "output_type": "stream",
     "text": [
      "trek\n",
      "Trek\n",
      "cannondale\n",
      "specialized\n",
      "specialized\n",
      "redline\n",
      "My bicycle was a Trek\n"
     ]
    }
   ],
   "source": [
    "bicycle = ['trek', 'cannondale', 'redline', 'specialized']\n",
    "print(bicycle[0])\n",
    "print(bicycle[0].title())\n",
    "print(bicycle[1])\n",
    "print(bicycle[3])\n",
    "print(bicycle[-1])\n",
    "print(bicycle[-2])\n",
    "message = f\"My bicycle was a {bicycle[0].title()}\"\n",
    "print(message)"
   ]
  },
  {
   "cell_type": "code",
   "execution_count": 3,
   "id": "7a47c121-003c-4323-ab91-56e1ef4a495f",
   "metadata": {},
   "outputs": [
    {
     "name": "stdout",
     "output_type": "stream",
     "text": [
      "Honorable guest Abdul Haq you are invited to the ceremony\n",
      "Honorable guest Sufia Khatun you are invited to the ceremony\n",
      "Honorable guest Altaf Hossain you are invited to the ceremony\n",
      "Honorable guest Jahanara Begum you are invited to the ceremony\n"
     ]
    }
   ],
   "source": [
    "%run guest_list.py"
   ]
  },
  {
   "cell_type": "code",
   "execution_count": 5,
   "id": "bc97f287-007d-48d6-b8d0-dd0a43e651b8",
   "metadata": {},
   "outputs": [
    {
     "name": "stdout",
     "output_type": "stream",
     "text": [
      "Honorable guest Abdul Haq you are invited to the ceremony\n",
      "Honorable guest Sufia Khatun you are invited to the ceremony\n",
      "Honorable guest Altaf Hossain you are invited to the ceremony\n",
      "Honorable guest Jahanara Begum you are invited to the ceremony\n",
      "It's very sad that abdul haq can not make it to the ceremony\n",
      "Honorable guest Sadaruddin Munshi you are invited to the ceremony\n",
      "Honorable guest Sufia Khatun you are invited to the ceremony\n",
      "Honorable guest Altaf Hossain you are invited to the ceremony\n",
      "Honorable guest Jahanara Begum you are invited to the ceremony\n"
     ]
    }
   ],
   "source": [
    "%run guest_list.py"
   ]
  },
  {
   "cell_type": "code",
   "execution_count": 7,
   "id": "77fa64ce-4f0f-4c31-8658-f51e7dbbe7f1",
   "metadata": {},
   "outputs": [
    {
     "name": "stdout",
     "output_type": "stream",
     "text": [
      "Honorable guest Abdul Haq you are invited to the ceremony\n",
      "Honorable guest Sufia Khatun you are invited to the ceremony\n",
      "Honorable guest Altaf Hossain you are invited to the ceremony\n",
      "Honorable guest Jahanara Begum you are invited to the ceremony\n",
      "It's very sad that abdul haq can not make it to the ceremony\n",
      "Honorable guest Sadaruddin Munshi you are invited to the ceremony\n",
      "Honorable guest Sufia Khatun you are invited to the ceremony\n",
      "Honorable guest Altaf Hossain you are invited to the ceremony\n",
      "Honorable guest Jahanara Begum you are invited to the ceremony\n",
      "\n",
      "It's my pleasure to announce that we have found a bigger table\n",
      "\n",
      "Honorable guest Kazi Nazrul Islam you are invited to the bigger ceremony\n",
      "Honorable guest Sadaruddin Munshi you are invited to the bigger ceremony\n",
      "Honorable guest Sufia Khatun you are invited to the bigger ceremony\n",
      "Honorable guest Tajuddin Ahmad you are invited to the bigger ceremony\n",
      "Honorable guest Altaf Hossain you are invited to the bigger ceremony\n",
      "Honorable guest Jahanara Begum you are invited to the bigger ceremony\n",
      "Honorable guest Mawlana Bhasani you are invited to the bigger ceremony\n"
     ]
    }
   ],
   "source": [
    "%run guest_list.py"
   ]
  },
  {
   "cell_type": "code",
   "execution_count": 15,
   "id": "53c21a9b-59d5-49c9-b800-c12ba321b936",
   "metadata": {},
   "outputs": [
    {
     "name": "stdout",
     "output_type": "stream",
     "text": [
      "Honorable guest Abdul Haq you are invited to the ceremony\n",
      "Honorable guest Sufia Khatun you are invited to the ceremony\n",
      "Honorable guest Altaf Hossain you are invited to the ceremony\n",
      "Honorable guest Jahanara Begum you are invited to the ceremony\n",
      "It's very sad that abdul haq can not make it to the ceremony\n",
      "Honorable guest Sadaruddin Munshi you are invited to the ceremony\n",
      "Honorable guest Sufia Khatun you are invited to the ceremony\n",
      "Honorable guest Altaf Hossain you are invited to the ceremony\n",
      "Honorable guest Jahanara Begum you are invited to the ceremony\n",
      "\n",
      "It's my pleasure to announce that we have found a bigger table\n",
      "\n",
      "Honorable guest Kazi Nazrul Islam you are invited to the bigger ceremony\n",
      "Honorable guest Sadaruddin Munshi you are invited to the bigger ceremony\n",
      "Honorable guest Sufia Khatun you are invited to the bigger ceremony\n",
      "Honorable guest Tajuddin Ahmad you are invited to the bigger ceremony\n",
      "Honorable guest Altaf Hossain you are invited to the bigger ceremony\n",
      "Honorable guest Jahanara Begum you are invited to the bigger ceremony\n",
      "Honorable guest Mawlana Bhasani you are invited to the bigger ceremony\n",
      "['kazi nazrul islam', 'sadaruddin munshi', 'sufia khatun', 'tajuddin ahmad', 'altaf hossain', 'jahanara begum', 'mawlana bhasani']\n",
      "\n",
      "\n",
      "We are sorry to aanounce that we can only invite two people\n",
      "\n",
      "\n",
      "We are extremely sorry we can not invite you to dinner Kazi Nazrul Islam\n",
      "We are extremely sorry we can not invite you to dinner Sadaruddin Munshi\n",
      "We are extremely sorry we can not invite you to dinner Tajuddin Ahmad\n",
      "We are extremely sorry we can not invite you to dinner Altaf Hossain\n",
      "We are extremely sorry we can not invite you to dinner Mawlana Bhasani\n"
     ]
    }
   ],
   "source": [
    "%run guest_list.py"
   ]
  },
  {
   "cell_type": "code",
   "execution_count": 21,
   "id": "6a5c6072-3c9e-4660-bdf5-a687939dd3f2",
   "metadata": {},
   "outputs": [
    {
     "name": "stdout",
     "output_type": "stream",
     "text": [
      "4\n",
      "Honorable guest Abdul Haq you are invited to the ceremony\n",
      "Honorable guest Sufia Khatun you are invited to the ceremony\n",
      "Honorable guest Altaf Hossain you are invited to the ceremony\n",
      "Honorable guest Jahanara Begum you are invited to the ceremony\n",
      "It's very sad that abdul haq can not make it to the ceremony\n",
      "4\n",
      "Honorable guest Sadaruddin Munshi you are invited to the ceremony\n",
      "Honorable guest Sufia Khatun you are invited to the ceremony\n",
      "Honorable guest Altaf Hossain you are invited to the ceremony\n",
      "Honorable guest Jahanara Begum you are invited to the ceremony\n",
      "\n",
      "It's my pleasure to announce that we have found a bigger table\n",
      "\n",
      "7\n",
      "Honorable guest Kazi Nazrul Islam you are invited to the bigger ceremony\n",
      "Honorable guest Sadaruddin Munshi you are invited to the bigger ceremony\n",
      "Honorable guest Sufia Khatun you are invited to the bigger ceremony\n",
      "Honorable guest Tajuddin Ahmad you are invited to the bigger ceremony\n",
      "Honorable guest Altaf Hossain you are invited to the bigger ceremony\n",
      "Honorable guest Jahanara Begum you are invited to the bigger ceremony\n",
      "Honorable guest Mawlana Bhasani you are invited to the bigger ceremony\n",
      "['kazi nazrul islam', 'sadaruddin munshi', 'sufia khatun', 'tajuddin ahmad', 'altaf hossain', 'jahanara begum', 'mawlana bhasani']\n",
      "\n",
      "\n",
      "We are sorry to aanounce that we can only invite two people\n",
      "\n",
      "\n",
      "2\n",
      "We are extremely sorry we can not invite you to dinner Kazi Nazrul Islam\n",
      "We are extremely sorry we can not invite you to dinner Sadaruddin Munshi\n",
      "We are extremely sorry we can not invite you to dinner Tajuddin Ahmad\n",
      "We are extremely sorry we can not invite you to dinner Altaf Hossain\n",
      "We are extremely sorry we can not invite you to dinner Mawlana Bhasani\n",
      "['sufia khatun', 'jahanara begum']\n",
      "Honorable Guest Sufia Khatun, you are still invited\n",
      "Honorable Guest Jahanara Begum, you are still invited\n",
      "[]\n",
      "0\n"
     ]
    }
   ],
   "source": [
    "%run guest_list.py"
   ]
  },
  {
   "cell_type": "code",
   "execution_count": 29,
   "id": "a92dc0a9-3963-4a2e-a65c-b777b1318f33",
   "metadata": {},
   "outputs": [
    {
     "name": "stdout",
     "output_type": "stream",
     "text": [
      "['bd', 'us', 'uk', 'sa', 'afg']\n",
      "['afg', 'bd', 'sa', 'uk', 'us']\n",
      "['bd', 'us', 'uk', 'sa', 'afg']\n",
      "['us', 'uk', 'sa', 'bd', 'afg']\n",
      "['bd', 'us', 'uk', 'sa', 'afg']\n",
      "['afg', 'sa', 'uk', 'us', 'bd']\n",
      "['bd', 'us', 'uk', 'sa', 'afg']\n",
      "['afg', 'bd', 'sa', 'uk', 'us']\n",
      "['us', 'uk', 'sa', 'bd', 'afg']\n",
      "['afg', 'bd', 'sa', 'uk', 'us']\n"
     ]
    }
   ],
   "source": [
    "%run world_list.py"
   ]
  },
  {
   "cell_type": "code",
   "execution_count": null,
   "id": "936b4608-4adc-4948-9911-2d0e4eb93444",
   "metadata": {},
   "outputs": [],
   "source": []
  }
 ],
 "metadata": {
  "kernelspec": {
   "display_name": "Python 3 (ipykernel)",
   "language": "python",
   "name": "python3"
  },
  "language_info": {
   "codemirror_mode": {
    "name": "ipython",
    "version": 3
   },
   "file_extension": ".py",
   "mimetype": "text/x-python",
   "name": "python",
   "nbconvert_exporter": "python",
   "pygments_lexer": "ipython3",
   "version": "3.12.4"
  }
 },
 "nbformat": 4,
 "nbformat_minor": 5
}
